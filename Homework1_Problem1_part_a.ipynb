{
 "cells": [
  {
   "cell_type": "code",
   "execution_count": 839,
   "id": "3a8d6271",
   "metadata": {},
   "outputs": [],
   "source": [
    "# Nasser Althaiban   800764203   Homework1\n",
    "\n",
    "# Problem 1 part a:\n",
    "\n",
    "import numpy as np\n",
    "import pandas as pd\n",
    "import matplotlib.pyplot as plt\n",
    "import seaborn as sns"
   ]
  },
  {
   "cell_type": "code",
   "execution_count": 840,
   "id": "517856de",
   "metadata": {},
   "outputs": [
    {
     "data": {
      "text/plain": [
       "(545, 13)"
      ]
     },
     "execution_count": 840,
     "metadata": {},
     "output_type": "execute_result"
    }
   ],
   "source": [
    "housing = pd.DataFrame(pd.read_csv('Housing.csv'))\n",
    "housing.head()\n",
    "m = len(housing)\n",
    "m\n",
    "housing.shape"
   ]
  },
  {
   "cell_type": "code",
   "execution_count": 841,
   "id": "60313da4",
   "metadata": {},
   "outputs": [
    {
     "name": "stdout",
     "output_type": "stream",
     "text": [
      "<class 'pandas.core.frame.DataFrame'>\n",
      "RangeIndex: 545 entries, 0 to 544\n",
      "Data columns (total 13 columns):\n",
      " #   Column            Non-Null Count  Dtype \n",
      "---  ------            --------------  ----- \n",
      " 0   price             545 non-null    int64 \n",
      " 1   area              545 non-null    int64 \n",
      " 2   bedrooms          545 non-null    int64 \n",
      " 3   bathrooms         545 non-null    int64 \n",
      " 4   stories           545 non-null    int64 \n",
      " 5   mainroad          545 non-null    object\n",
      " 6   guestroom         545 non-null    object\n",
      " 7   basement          545 non-null    object\n",
      " 8   hotwaterheating   545 non-null    object\n",
      " 9   airconditioning   545 non-null    object\n",
      " 10  parking           545 non-null    int64 \n",
      " 11  prefarea          545 non-null    object\n",
      " 12  furnishingstatus  545 non-null    object\n",
      "dtypes: int64(6), object(7)\n",
      "memory usage: 55.5+ KB\n"
     ]
    }
   ],
   "source": [
    "housing.info()"
   ]
  },
  {
   "cell_type": "code",
   "execution_count": 842,
   "id": "ebcf3e87",
   "metadata": {
    "scrolled": true
   },
   "outputs": [
    {
     "data": {
      "text/html": [
       "<div>\n",
       "<style scoped>\n",
       "    .dataframe tbody tr th:only-of-type {\n",
       "        vertical-align: middle;\n",
       "    }\n",
       "\n",
       "    .dataframe tbody tr th {\n",
       "        vertical-align: top;\n",
       "    }\n",
       "\n",
       "    .dataframe thead th {\n",
       "        text-align: right;\n",
       "    }\n",
       "</style>\n",
       "<table border=\"1\" class=\"dataframe\">\n",
       "  <thead>\n",
       "    <tr style=\"text-align: right;\">\n",
       "      <th></th>\n",
       "      <th>price</th>\n",
       "      <th>area</th>\n",
       "      <th>bedrooms</th>\n",
       "      <th>bathrooms</th>\n",
       "      <th>stories</th>\n",
       "      <th>parking</th>\n",
       "    </tr>\n",
       "  </thead>\n",
       "  <tbody>\n",
       "    <tr>\n",
       "      <th>count</th>\n",
       "      <td>5.450000e+02</td>\n",
       "      <td>545.000000</td>\n",
       "      <td>545.000000</td>\n",
       "      <td>545.000000</td>\n",
       "      <td>545.000000</td>\n",
       "      <td>545.000000</td>\n",
       "    </tr>\n",
       "    <tr>\n",
       "      <th>mean</th>\n",
       "      <td>4.766729e+06</td>\n",
       "      <td>5150.541284</td>\n",
       "      <td>2.965138</td>\n",
       "      <td>1.286239</td>\n",
       "      <td>1.805505</td>\n",
       "      <td>0.693578</td>\n",
       "    </tr>\n",
       "    <tr>\n",
       "      <th>std</th>\n",
       "      <td>1.870440e+06</td>\n",
       "      <td>2170.141023</td>\n",
       "      <td>0.738064</td>\n",
       "      <td>0.502470</td>\n",
       "      <td>0.867492</td>\n",
       "      <td>0.861586</td>\n",
       "    </tr>\n",
       "    <tr>\n",
       "      <th>min</th>\n",
       "      <td>1.750000e+06</td>\n",
       "      <td>1650.000000</td>\n",
       "      <td>1.000000</td>\n",
       "      <td>1.000000</td>\n",
       "      <td>1.000000</td>\n",
       "      <td>0.000000</td>\n",
       "    </tr>\n",
       "    <tr>\n",
       "      <th>25%</th>\n",
       "      <td>3.430000e+06</td>\n",
       "      <td>3600.000000</td>\n",
       "      <td>2.000000</td>\n",
       "      <td>1.000000</td>\n",
       "      <td>1.000000</td>\n",
       "      <td>0.000000</td>\n",
       "    </tr>\n",
       "    <tr>\n",
       "      <th>50%</th>\n",
       "      <td>4.340000e+06</td>\n",
       "      <td>4600.000000</td>\n",
       "      <td>3.000000</td>\n",
       "      <td>1.000000</td>\n",
       "      <td>2.000000</td>\n",
       "      <td>0.000000</td>\n",
       "    </tr>\n",
       "    <tr>\n",
       "      <th>75%</th>\n",
       "      <td>5.740000e+06</td>\n",
       "      <td>6360.000000</td>\n",
       "      <td>3.000000</td>\n",
       "      <td>2.000000</td>\n",
       "      <td>2.000000</td>\n",
       "      <td>1.000000</td>\n",
       "    </tr>\n",
       "    <tr>\n",
       "      <th>max</th>\n",
       "      <td>1.330000e+07</td>\n",
       "      <td>16200.000000</td>\n",
       "      <td>6.000000</td>\n",
       "      <td>4.000000</td>\n",
       "      <td>4.000000</td>\n",
       "      <td>3.000000</td>\n",
       "    </tr>\n",
       "  </tbody>\n",
       "</table>\n",
       "</div>"
      ],
      "text/plain": [
       "              price          area    bedrooms   bathrooms     stories  \\\n",
       "count  5.450000e+02    545.000000  545.000000  545.000000  545.000000   \n",
       "mean   4.766729e+06   5150.541284    2.965138    1.286239    1.805505   \n",
       "std    1.870440e+06   2170.141023    0.738064    0.502470    0.867492   \n",
       "min    1.750000e+06   1650.000000    1.000000    1.000000    1.000000   \n",
       "25%    3.430000e+06   3600.000000    2.000000    1.000000    1.000000   \n",
       "50%    4.340000e+06   4600.000000    3.000000    1.000000    2.000000   \n",
       "75%    5.740000e+06   6360.000000    3.000000    2.000000    2.000000   \n",
       "max    1.330000e+07  16200.000000    6.000000    4.000000    4.000000   \n",
       "\n",
       "          parking  \n",
       "count  545.000000  \n",
       "mean     0.693578  \n",
       "std      0.861586  \n",
       "min      0.000000  \n",
       "25%      0.000000  \n",
       "50%      0.000000  \n",
       "75%      1.000000  \n",
       "max      3.000000  "
      ]
     },
     "execution_count": 842,
     "metadata": {},
     "output_type": "execute_result"
    }
   ],
   "source": [
    "housing.describe()"
   ]
  },
  {
   "cell_type": "code",
   "execution_count": 843,
   "id": "b277b156",
   "metadata": {},
   "outputs": [
    {
     "data": {
      "text/html": [
       "<div>\n",
       "<style scoped>\n",
       "    .dataframe tbody tr th:only-of-type {\n",
       "        vertical-align: middle;\n",
       "    }\n",
       "\n",
       "    .dataframe tbody tr th {\n",
       "        vertical-align: top;\n",
       "    }\n",
       "\n",
       "    .dataframe thead th {\n",
       "        text-align: right;\n",
       "    }\n",
       "</style>\n",
       "<table border=\"1\" class=\"dataframe\">\n",
       "  <thead>\n",
       "    <tr style=\"text-align: right;\">\n",
       "      <th></th>\n",
       "      <th>price</th>\n",
       "      <th>area</th>\n",
       "      <th>bedrooms</th>\n",
       "      <th>bathrooms</th>\n",
       "      <th>stories</th>\n",
       "      <th>mainroad</th>\n",
       "      <th>guestroom</th>\n",
       "      <th>basement</th>\n",
       "      <th>hotwaterheating</th>\n",
       "      <th>airconditioning</th>\n",
       "      <th>parking</th>\n",
       "      <th>prefarea</th>\n",
       "      <th>furnishingstatus</th>\n",
       "    </tr>\n",
       "  </thead>\n",
       "  <tbody>\n",
       "    <tr>\n",
       "      <th>0</th>\n",
       "      <td>13300000</td>\n",
       "      <td>7420</td>\n",
       "      <td>4</td>\n",
       "      <td>2</td>\n",
       "      <td>3</td>\n",
       "      <td>1</td>\n",
       "      <td>0</td>\n",
       "      <td>0</td>\n",
       "      <td>0</td>\n",
       "      <td>1</td>\n",
       "      <td>2</td>\n",
       "      <td>1</td>\n",
       "      <td>furnished</td>\n",
       "    </tr>\n",
       "    <tr>\n",
       "      <th>1</th>\n",
       "      <td>12250000</td>\n",
       "      <td>8960</td>\n",
       "      <td>4</td>\n",
       "      <td>4</td>\n",
       "      <td>4</td>\n",
       "      <td>1</td>\n",
       "      <td>0</td>\n",
       "      <td>0</td>\n",
       "      <td>0</td>\n",
       "      <td>1</td>\n",
       "      <td>3</td>\n",
       "      <td>0</td>\n",
       "      <td>furnished</td>\n",
       "    </tr>\n",
       "    <tr>\n",
       "      <th>2</th>\n",
       "      <td>12250000</td>\n",
       "      <td>9960</td>\n",
       "      <td>3</td>\n",
       "      <td>2</td>\n",
       "      <td>2</td>\n",
       "      <td>1</td>\n",
       "      <td>0</td>\n",
       "      <td>1</td>\n",
       "      <td>0</td>\n",
       "      <td>0</td>\n",
       "      <td>2</td>\n",
       "      <td>1</td>\n",
       "      <td>semi-furnished</td>\n",
       "    </tr>\n",
       "    <tr>\n",
       "      <th>3</th>\n",
       "      <td>12215000</td>\n",
       "      <td>7500</td>\n",
       "      <td>4</td>\n",
       "      <td>2</td>\n",
       "      <td>2</td>\n",
       "      <td>1</td>\n",
       "      <td>0</td>\n",
       "      <td>1</td>\n",
       "      <td>0</td>\n",
       "      <td>1</td>\n",
       "      <td>3</td>\n",
       "      <td>1</td>\n",
       "      <td>furnished</td>\n",
       "    </tr>\n",
       "    <tr>\n",
       "      <th>4</th>\n",
       "      <td>11410000</td>\n",
       "      <td>7420</td>\n",
       "      <td>4</td>\n",
       "      <td>1</td>\n",
       "      <td>2</td>\n",
       "      <td>1</td>\n",
       "      <td>1</td>\n",
       "      <td>1</td>\n",
       "      <td>0</td>\n",
       "      <td>1</td>\n",
       "      <td>2</td>\n",
       "      <td>0</td>\n",
       "      <td>furnished</td>\n",
       "    </tr>\n",
       "  </tbody>\n",
       "</table>\n",
       "</div>"
      ],
      "text/plain": [
       "      price  area  bedrooms  bathrooms  stories  mainroad  guestroom  \\\n",
       "0  13300000  7420         4          2        3         1          0   \n",
       "1  12250000  8960         4          4        4         1          0   \n",
       "2  12250000  9960         3          2        2         1          0   \n",
       "3  12215000  7500         4          2        2         1          0   \n",
       "4  11410000  7420         4          1        2         1          1   \n",
       "\n",
       "   basement  hotwaterheating  airconditioning  parking  prefarea  \\\n",
       "0         0                0                1        2         1   \n",
       "1         0                0                1        3         0   \n",
       "2         1                0                0        2         1   \n",
       "3         1                0                1        3         1   \n",
       "4         1                0                1        2         0   \n",
       "\n",
       "  furnishingstatus  \n",
       "0        furnished  \n",
       "1        furnished  \n",
       "2   semi-furnished  \n",
       "3        furnished  \n",
       "4        furnished  "
      ]
     },
     "execution_count": 843,
     "metadata": {},
     "output_type": "execute_result"
    }
   ],
   "source": [
    "# You can see that your dataset has many columns with values as 'Yes' or 'No'.\n",
    "# But in order to fit a regression line, we would need numerical values and not string.\n",
    "# List of variables to map\n",
    "varlist = ['mainroad', 'guestroom', 'basement', 'hotwaterheating', 'airconditioning', 'prefarea',]\n",
    "# Defining the map function\n",
    "def binary_map(x):\n",
    "     return x.map({'yes': 1, \"no\": 0})\n",
    "# Applying the function to the housing list\n",
    "housing[varlist] = housing[varlist].apply(binary_map)\n",
    "# Check the housing dataframe now\n",
    "housing.head()\n"
   ]
  },
  {
   "cell_type": "code",
   "execution_count": 844,
   "id": "8a04c9ce",
   "metadata": {},
   "outputs": [
    {
     "data": {
      "text/plain": [
       "(381, 13)"
      ]
     },
     "execution_count": 844,
     "metadata": {},
     "output_type": "execute_result"
    }
   ],
   "source": [
    "#Splitting the Data into Training and Testing Sets\n",
    "from sklearn.model_selection import train_test_split\n",
    "# We specify this so that the train and test data set always have the same rows, respec\n",
    "np.random.seed(0)\n",
    "df_train, df_test = train_test_split(housing, train_size = 0.7, test_size = 0.3, random_state = 100 )\n",
    "df_train.shape\n"
   ]
  },
  {
   "cell_type": "code",
   "execution_count": 845,
   "id": "4fa0dac7",
   "metadata": {},
   "outputs": [
    {
     "data": {
      "text/plain": [
       "(164, 13)"
      ]
     },
     "execution_count": 845,
     "metadata": {},
     "output_type": "execute_result"
    }
   ],
   "source": [
    "df_test.shape"
   ]
  },
  {
   "cell_type": "code",
   "execution_count": 846,
   "id": "c739b601",
   "metadata": {},
   "outputs": [
    {
     "data": {
      "text/html": [
       "<div>\n",
       "<style scoped>\n",
       "    .dataframe tbody tr th:only-of-type {\n",
       "        vertical-align: middle;\n",
       "    }\n",
       "\n",
       "    .dataframe tbody tr th {\n",
       "        vertical-align: top;\n",
       "    }\n",
       "\n",
       "    .dataframe thead th {\n",
       "        text-align: right;\n",
       "    }\n",
       "</style>\n",
       "<table border=\"1\" class=\"dataframe\">\n",
       "  <thead>\n",
       "    <tr style=\"text-align: right;\">\n",
       "      <th></th>\n",
       "      <th>area</th>\n",
       "      <th>bedrooms</th>\n",
       "      <th>bathrooms</th>\n",
       "      <th>stories</th>\n",
       "      <th>parking</th>\n",
       "      <th>price</th>\n",
       "    </tr>\n",
       "  </thead>\n",
       "  <tbody>\n",
       "    <tr>\n",
       "      <th>359</th>\n",
       "      <td>3600</td>\n",
       "      <td>3</td>\n",
       "      <td>1</td>\n",
       "      <td>1</td>\n",
       "      <td>1</td>\n",
       "      <td>3710000</td>\n",
       "    </tr>\n",
       "    <tr>\n",
       "      <th>19</th>\n",
       "      <td>6420</td>\n",
       "      <td>3</td>\n",
       "      <td>2</td>\n",
       "      <td>2</td>\n",
       "      <td>1</td>\n",
       "      <td>8855000</td>\n",
       "    </tr>\n",
       "    <tr>\n",
       "      <th>159</th>\n",
       "      <td>3150</td>\n",
       "      <td>3</td>\n",
       "      <td>2</td>\n",
       "      <td>1</td>\n",
       "      <td>0</td>\n",
       "      <td>5460000</td>\n",
       "    </tr>\n",
       "    <tr>\n",
       "      <th>35</th>\n",
       "      <td>7000</td>\n",
       "      <td>3</td>\n",
       "      <td>2</td>\n",
       "      <td>4</td>\n",
       "      <td>2</td>\n",
       "      <td>8080940</td>\n",
       "    </tr>\n",
       "    <tr>\n",
       "      <th>28</th>\n",
       "      <td>7950</td>\n",
       "      <td>5</td>\n",
       "      <td>2</td>\n",
       "      <td>2</td>\n",
       "      <td>2</td>\n",
       "      <td>8400000</td>\n",
       "    </tr>\n",
       "  </tbody>\n",
       "</table>\n",
       "</div>"
      ],
      "text/plain": [
       "     area  bedrooms  bathrooms  stories  parking    price\n",
       "359  3600         3          1        1        1  3710000\n",
       "19   6420         3          2        2        1  8855000\n",
       "159  3150         3          2        1        0  5460000\n",
       "35   7000         3          2        4        2  8080940\n",
       "28   7950         5          2        2        2  8400000"
      ]
     },
     "execution_count": 846,
     "metadata": {},
     "output_type": "execute_result"
    }
   ],
   "source": [
    "num_vars = ['area', 'bedrooms', 'bathrooms', 'stories', 'parking','price']\n",
    "df_Newtrain = df_train[num_vars]\n",
    "df_Newtest = df_test[num_vars]\n",
    "df_Newtrain.head()\n"
   ]
  },
  {
   "cell_type": "code",
   "execution_count": 847,
   "id": "984e1f5e",
   "metadata": {},
   "outputs": [
    {
     "data": {
      "text/plain": [
       "(381, 6)"
      ]
     },
     "execution_count": 847,
     "metadata": {},
     "output_type": "execute_result"
    }
   ],
   "source": [
    "df_Newtrain.shape\n"
   ]
  },
  {
   "cell_type": "code",
   "execution_count": 848,
   "id": "a01aae91",
   "metadata": {},
   "outputs": [],
   "source": [
    "y_Newtrain = df_Newtrain.pop('price')\n",
    "X_Newtrain = df_Newtrain.values\n",
    "y = y_Newtrain.values\n",
    "m = len(X_Newtrain)\n",
    "X_0 = np.ones((m, 1))             \n",
    "X_0[:5]\n",
    "X1    = df_Newtrain.values[:,0]\n",
    "X2    = df_Newtrain.values[:,1]\n",
    "X3    = df_Newtrain.values[:,2]\n",
    "X4    = df_Newtrain.values[:,3]\n",
    "X5    = df_Newtrain.values[:,4]\n",
    "\n",
    "X_1 = X1.reshape(m, 1)\n",
    "X_2 = X2.reshape(m, 1)\n",
    "X_3 = X3.reshape(m, 1)\n",
    "X_4 = X4.reshape(m, 1)\n",
    "X_5 = X5.reshape(m, 1)\n",
    "\n"
   ]
  },
  {
   "cell_type": "code",
   "execution_count": 849,
   "id": "ee345bed",
   "metadata": {},
   "outputs": [
    {
     "data": {
      "text/plain": [
       "array([0., 0., 0., 0., 0., 0.])"
      ]
     },
     "execution_count": 849,
     "metadata": {},
     "output_type": "execute_result"
    }
   ],
   "source": [
    "X = np.hstack((X_0, X_1, X_2, X_3, X_4, X_5))\n",
    "theta = np.zeros(6)\n",
    "theta"
   ]
  },
  {
   "cell_type": "code",
   "execution_count": 850,
   "id": "d32052f9",
   "metadata": {},
   "outputs": [],
   "source": [
    "y_Newtest = df_Newtest.pop('price')\n",
    "X_Newtest = df_Newtest.values\n",
    "y_test = y_Newtest.values\n",
    "m_test = len(X_Newtest)\n",
    "X_0_test = np.ones((m_test, 1))             \n",
    "X1_test    = df_Newtest.values[:,0]\n",
    "X2_test    = df_Newtest.values[:,1]\n",
    "X3_test    = df_Newtest.values[:,2]\n",
    "X4_test    = df_Newtest.values[:,3]\n",
    "X5_test    = df_Newtest.values[:,4]\n",
    "\n",
    "X_1_test = X1_test.reshape(m_test, 1)\n",
    "X_2_test = X2_test.reshape(m_test, 1)\n",
    "X_3_test = X3_test.reshape(m_test, 1)\n",
    "X_4_test = X4_test.reshape(m_test, 1)\n",
    "X_5_test = X5_test.reshape(m_test, 1)\n"
   ]
  },
  {
   "cell_type": "code",
   "execution_count": 851,
   "id": "34e2a74d",
   "metadata": {},
   "outputs": [],
   "source": [
    "X_test= np.hstack((X_0_test, X_1_test, X_2_test, X_3_test, X_4_test, X_5_test))\n"
   ]
  },
  {
   "cell_type": "code",
   "execution_count": 852,
   "id": "2a791c7d",
   "metadata": {},
   "outputs": [],
   "source": [
    "def compute_cost(X, y, theta, m):\n",
    "    predictions = X.dot(theta)\n",
    "    errors = np.subtract(predictions, y)\n",
    "    sqrErrors = np.square(errors)\n",
    "    J = 1 / (2 * m) * np.sum(sqrErrors)\n",
    "    return J\n"
   ]
  },
  {
   "cell_type": "code",
   "execution_count": 853,
   "id": "8da8e333",
   "metadata": {},
   "outputs": [
    {
     "data": {
      "text/plain": [
       "12966317325103.15"
      ]
     },
     "execution_count": 853,
     "metadata": {},
     "output_type": "execute_result"
    }
   ],
   "source": [
    "cost = compute_cost(X, y_Newtrain, theta, m)\n",
    "cost"
   ]
  },
  {
   "cell_type": "code",
   "execution_count": 854,
   "id": "66d43dda",
   "metadata": {},
   "outputs": [],
   "source": [
    "def gradient_descent(X, y, theta, alpha, iterations):\n",
    "    cost_train = np.zeros(iterations)\n",
    "    cost_test = np.zeros(iterations)\n",
    "    for i in range(iterations):\n",
    "        predictions = X.dot(theta)\n",
    "        errors = np.subtract(predictions, y)\n",
    "        sum_delta = (alpha / m) * X.transpose().dot(errors);\n",
    "        theta = theta - sum_delta;\n",
    "        cost_train[i] = compute_cost(X, y, theta, m)             \n",
    "        cost_test[i] = compute_cost(X_test, y_test, theta, m_test)      \n",
    "    \n",
    "    return theta, cost_train, cost_test"
   ]
  },
  {
   "cell_type": "code",
   "execution_count": 855,
   "id": "5a1455b1",
   "metadata": {},
   "outputs": [],
   "source": [
    "theta = [0., 0., 0., 0., 0., 0.]\n",
    "iterations = 100;\n",
    "alpha = 0.00000001;"
   ]
  },
  {
   "cell_type": "code",
   "execution_count": 856,
   "id": "f8d16db6",
   "metadata": {},
   "outputs": [
    {
     "name": "stdout",
     "output_type": "stream",
     "text": [
      "Final value of theta= [4.73492998e-01 8.65549229e+02 1.73247400e+00 9.20983665e-01\n",
      " 1.40741877e+00 3.52681098e-01]\n",
      "cost_train = [7.08737397e+12 4.24131744e+12 2.86351238e+12 2.19650287e+12\n",
      " 1.87359673e+12 1.71727455e+12 1.64159737e+12 1.60496125e+12\n",
      " 1.58722532e+12 1.57863915e+12 1.57448248e+12 1.57247017e+12\n",
      " 1.57149598e+12 1.57102434e+12 1.57079600e+12 1.57068543e+12\n",
      " 1.57063189e+12 1.57060595e+12 1.57059337e+12 1.57058727e+12\n",
      " 1.57058429e+12 1.57058283e+12 1.57058210e+12 1.57058173e+12\n",
      " 1.57058154e+12 1.57058142e+12 1.57058135e+12 1.57058129e+12\n",
      " 1.57058124e+12 1.57058120e+12 1.57058116e+12 1.57058113e+12\n",
      " 1.57058109e+12 1.57058105e+12 1.57058102e+12 1.57058098e+12\n",
      " 1.57058094e+12 1.57058090e+12 1.57058087e+12 1.57058083e+12\n",
      " 1.57058079e+12 1.57058076e+12 1.57058072e+12 1.57058068e+12\n",
      " 1.57058065e+12 1.57058061e+12 1.57058057e+12 1.57058054e+12\n",
      " 1.57058050e+12 1.57058046e+12 1.57058042e+12 1.57058039e+12\n",
      " 1.57058035e+12 1.57058031e+12 1.57058028e+12 1.57058024e+12\n",
      " 1.57058020e+12 1.57058017e+12 1.57058013e+12 1.57058009e+12\n",
      " 1.57058006e+12 1.57058002e+12 1.57057998e+12 1.57057995e+12\n",
      " 1.57057991e+12 1.57057987e+12 1.57057983e+12 1.57057980e+12\n",
      " 1.57057976e+12 1.57057972e+12 1.57057969e+12 1.57057965e+12\n",
      " 1.57057961e+12 1.57057958e+12 1.57057954e+12 1.57057950e+12\n",
      " 1.57057947e+12 1.57057943e+12 1.57057939e+12 1.57057935e+12\n",
      " 1.57057932e+12 1.57057928e+12 1.57057924e+12 1.57057921e+12\n",
      " 1.57057917e+12 1.57057913e+12 1.57057910e+12 1.57057906e+12\n",
      " 1.57057902e+12 1.57057899e+12 1.57057895e+12 1.57057891e+12\n",
      " 1.57057888e+12 1.57057884e+12 1.57057880e+12 1.57057876e+12\n",
      " 1.57057873e+12 1.57057869e+12 1.57057865e+12 1.57057862e+12]\n",
      "cost_test = [7.30528716e+12 4.39545389e+12 3.02637928e+12 2.39115293e+12\n",
      " 2.10280673e+12 1.97655583e+12 1.92471849e+12 1.90608174e+12\n",
      " 1.90155300e+12 1.90248708e+12 1.90511462e+12 1.90790018e+12\n",
      " 1.91030180e+12 1.91219716e+12 1.91362452e+12 1.91467023e+12\n",
      " 1.91542325e+12 1.91595950e+12 1.91633857e+12 1.91660519e+12\n",
      " 1.91679209e+12 1.91692279e+12 1.91701404e+12 1.91707768e+12\n",
      " 1.91712202e+12 1.91715290e+12 1.91717439e+12 1.91718933e+12\n",
      " 1.91719972e+12 1.91720694e+12 1.91721195e+12 1.91721542e+12\n",
      " 1.91721783e+12 1.91721949e+12 1.91722063e+12 1.91722141e+12\n",
      " 1.91722194e+12 1.91722229e+12 1.91722253e+12 1.91722268e+12\n",
      " 1.91722277e+12 1.91722282e+12 1.91722284e+12 1.91722284e+12\n",
      " 1.91722283e+12 1.91722281e+12 1.91722278e+12 1.91722275e+12\n",
      " 1.91722271e+12 1.91722267e+12 1.91722263e+12 1.91722259e+12\n",
      " 1.91722255e+12 1.91722251e+12 1.91722247e+12 1.91722242e+12\n",
      " 1.91722238e+12 1.91722234e+12 1.91722229e+12 1.91722225e+12\n",
      " 1.91722221e+12 1.91722216e+12 1.91722212e+12 1.91722208e+12\n",
      " 1.91722203e+12 1.91722199e+12 1.91722194e+12 1.91722190e+12\n",
      " 1.91722186e+12 1.91722181e+12 1.91722177e+12 1.91722173e+12\n",
      " 1.91722168e+12 1.91722164e+12 1.91722160e+12 1.91722155e+12\n",
      " 1.91722151e+12 1.91722147e+12 1.91722142e+12 1.91722138e+12\n",
      " 1.91722134e+12 1.91722129e+12 1.91722125e+12 1.91722121e+12\n",
      " 1.91722116e+12 1.91722112e+12 1.91722107e+12 1.91722103e+12\n",
      " 1.91722099e+12 1.91722094e+12 1.91722090e+12 1.91722086e+12\n",
      " 1.91722081e+12 1.91722077e+12 1.91722073e+12 1.91722068e+12\n",
      " 1.91722064e+12 1.91722060e+12 1.91722055e+12 1.91722051e+12]\n"
     ]
    }
   ],
   "source": [
    "cost = compute_cost(X, y, theta, m)\n",
    "cost\n",
    "theta, cost_train, cost_test = gradient_descent(X, y, theta, alpha, iterations)\n",
    "print('Final value of theta=', theta)\n",
    "print('cost_train =', cost_train)\n",
    "print('cost_test =', cost_test)"
   ]
  },
  {
   "cell_type": "code",
   "execution_count": 857,
   "id": "100ab038",
   "metadata": {},
   "outputs": [
    {
     "data": {
      "text/plain": [
       "Text(0.5, 1.0, 'Convergence of gradient descent Problem1 a')"
      ]
     },
     "execution_count": 857,
     "metadata": {},
     "output_type": "execute_result"
    },
    {
     "data": {
      "image/png": "[encoded data removed]",
      "text/plain": [
       "<Figure size 720x432 with 1 Axes>"
      ]
     },
     "metadata": {
      "needs_background": "light"
     },
     "output_type": "display_data"
    }
   ],
   "source": [
    "plt.plot(range(1, iterations + 1),cost_train, color='blue', label= 'Loss for Training Set')\n",
    "plt.plot(range(1, iterations + 1),cost_test, color='red', label= 'Loss for Testing Set')\n",
    "plt.rcParams[\"figure.figsize\"] = (10,6)\n",
    "plt.grid()\n",
    "plt.legend()\n",
    "plt.xlabel('Number of iterations')\n",
    "plt.ylabel('Cost (J)')\n",
    "plt.title('Convergence of gradient descent Problem1 a')"
   ]
  },
  {
   "cell_type": "code",
   "execution_count": null,
   "id": "0127d5d6",
   "metadata": {},
   "outputs": [],
   "source": []
  }
 ],
 "metadata": {
  "kernelspec": {
   "display_name": "Python 3",
   "language": "python",
   "name": "python3"
  },
  "language_info": {
   "codemirror_mode": {
    "name": "ipython",
    "version": 3
   },
   "file_extension": ".py",
   "mimetype": "text/x-python",
   "name": "python",
   "nbconvert_exporter": "python",
   "pygments_lexer": "ipython3",
   "version": "3.8.8"
  }
 },
 "nbformat": 4,
 "nbformat_minor": 5
}
