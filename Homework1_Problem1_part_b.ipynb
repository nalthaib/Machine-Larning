{
 "cells": [
  {
   "cell_type": "code",
   "execution_count": 96,
   "id": "3a8d6271",
   "metadata": {},
   "outputs": [],
   "source": [
    "# Nasser Althaiban   800764203   Homework1\n",
    "\n",
    "# Problem 1 part b:\n",
    "\n",
    "import numpy as np\n",
    "import pandas as pd\n",
    "import matplotlib.pyplot as plt\n",
    "import seaborn as sns"
   ]
  },
  {
   "cell_type": "code",
   "execution_count": 97,
   "id": "517856de",
   "metadata": {},
   "outputs": [
    {
     "data": {
      "text/plain": [
       "(545, 13)"
      ]
     },
     "execution_count": 97,
     "metadata": {},
     "output_type": "execute_result"
    }
   ],
   "source": [
    "housing = pd.DataFrame(pd.read_csv('Housing.csv'))\n",
    "housing.head()\n",
    "m = len(housing)\n",
    "m\n",
    "housing.shape"
   ]
  },
  {
   "cell_type": "code",
   "execution_count": 98,
   "id": "60313da4",
   "metadata": {},
   "outputs": [
    {
     "name": "stdout",
     "output_type": "stream",
     "text": [
      "<class 'pandas.core.frame.DataFrame'>\n",
      "RangeIndex: 545 entries, 0 to 544\n",
      "Data columns (total 13 columns):\n",
      " #   Column            Non-Null Count  Dtype \n",
      "---  ------            --------------  ----- \n",
      " 0   price             545 non-null    int64 \n",
      " 1   area              545 non-null    int64 \n",
      " 2   bedrooms          545 non-null    int64 \n",
      " 3   bathrooms         545 non-null    int64 \n",
      " 4   stories           545 non-null    int64 \n",
      " 5   mainroad          545 non-null    object\n",
      " 6   guestroom         545 non-null    object\n",
      " 7   basement          545 non-null    object\n",
      " 8   hotwaterheating   545 non-null    object\n",
      " 9   airconditioning   545 non-null    object\n",
      " 10  parking           545 non-null    int64 \n",
      " 11  prefarea          545 non-null    object\n",
      " 12  furnishingstatus  545 non-null    object\n",
      "dtypes: int64(6), object(7)\n",
      "memory usage: 55.5+ KB\n"
     ]
    }
   ],
   "source": [
    "housing.info()"
   ]
  },
  {
   "cell_type": "code",
   "execution_count": 99,
   "id": "ebcf3e87",
   "metadata": {
    "scrolled": true
   },
   "outputs": [
    {
     "data": {
      "text/html": [
       "<div>\n",
       "<style scoped>\n",
       "    .dataframe tbody tr th:only-of-type {\n",
       "        vertical-align: middle;\n",
       "    }\n",
       "\n",
       "    .dataframe tbody tr th {\n",
       "        vertical-align: top;\n",
       "    }\n",
       "\n",
       "    .dataframe thead th {\n",
       "        text-align: right;\n",
       "    }\n",
       "</style>\n",
       "<table border=\"1\" class=\"dataframe\">\n",
       "  <thead>\n",
       "    <tr style=\"text-align: right;\">\n",
       "      <th></th>\n",
       "      <th>price</th>\n",
       "      <th>area</th>\n",
       "      <th>bedrooms</th>\n",
       "      <th>bathrooms</th>\n",
       "      <th>stories</th>\n",
       "      <th>parking</th>\n",
       "    </tr>\n",
       "  </thead>\n",
       "  <tbody>\n",
       "    <tr>\n",
       "      <th>count</th>\n",
       "      <td>5.450000e+02</td>\n",
       "      <td>545.000000</td>\n",
       "      <td>545.000000</td>\n",
       "      <td>545.000000</td>\n",
       "      <td>545.000000</td>\n",
       "      <td>545.000000</td>\n",
       "    </tr>\n",
       "    <tr>\n",
       "      <th>mean</th>\n",
       "      <td>4.766729e+06</td>\n",
       "      <td>5150.541284</td>\n",
       "      <td>2.965138</td>\n",
       "      <td>1.286239</td>\n",
       "      <td>1.805505</td>\n",
       "      <td>0.693578</td>\n",
       "    </tr>\n",
       "    <tr>\n",
       "      <th>std</th>\n",
       "      <td>1.870440e+06</td>\n",
       "      <td>2170.141023</td>\n",
       "      <td>0.738064</td>\n",
       "      <td>0.502470</td>\n",
       "      <td>0.867492</td>\n",
       "      <td>0.861586</td>\n",
       "    </tr>\n",
       "    <tr>\n",
       "      <th>min</th>\n",
       "      <td>1.750000e+06</td>\n",
       "      <td>1650.000000</td>\n",
       "      <td>1.000000</td>\n",
       "      <td>1.000000</td>\n",
       "      <td>1.000000</td>\n",
       "      <td>0.000000</td>\n",
       "    </tr>\n",
       "    <tr>\n",
       "      <th>25%</th>\n",
       "      <td>3.430000e+06</td>\n",
       "      <td>3600.000000</td>\n",
       "      <td>2.000000</td>\n",
       "      <td>1.000000</td>\n",
       "      <td>1.000000</td>\n",
       "      <td>0.000000</td>\n",
       "    </tr>\n",
       "    <tr>\n",
       "      <th>50%</th>\n",
       "      <td>4.340000e+06</td>\n",
       "      <td>4600.000000</td>\n",
       "      <td>3.000000</td>\n",
       "      <td>1.000000</td>\n",
       "      <td>2.000000</td>\n",
       "      <td>0.000000</td>\n",
       "    </tr>\n",
       "    <tr>\n",
       "      <th>75%</th>\n",
       "      <td>5.740000e+06</td>\n",
       "      <td>6360.000000</td>\n",
       "      <td>3.000000</td>\n",
       "      <td>2.000000</td>\n",
       "      <td>2.000000</td>\n",
       "      <td>1.000000</td>\n",
       "    </tr>\n",
       "    <tr>\n",
       "      <th>max</th>\n",
       "      <td>1.330000e+07</td>\n",
       "      <td>16200.000000</td>\n",
       "      <td>6.000000</td>\n",
       "      <td>4.000000</td>\n",
       "      <td>4.000000</td>\n",
       "      <td>3.000000</td>\n",
       "    </tr>\n",
       "  </tbody>\n",
       "</table>\n",
       "</div>"
      ],
      "text/plain": [
       "              price          area    bedrooms   bathrooms     stories  \\\n",
       "count  5.450000e+02    545.000000  545.000000  545.000000  545.000000   \n",
       "mean   4.766729e+06   5150.541284    2.965138    1.286239    1.805505   \n",
       "std    1.870440e+06   2170.141023    0.738064    0.502470    0.867492   \n",
       "min    1.750000e+06   1650.000000    1.000000    1.000000    1.000000   \n",
       "25%    3.430000e+06   3600.000000    2.000000    1.000000    1.000000   \n",
       "50%    4.340000e+06   4600.000000    3.000000    1.000000    2.000000   \n",
       "75%    5.740000e+06   6360.000000    3.000000    2.000000    2.000000   \n",
       "max    1.330000e+07  16200.000000    6.000000    4.000000    4.000000   \n",
       "\n",
       "          parking  \n",
       "count  545.000000  \n",
       "mean     0.693578  \n",
       "std      0.861586  \n",
       "min      0.000000  \n",
       "25%      0.000000  \n",
       "50%      0.000000  \n",
       "75%      1.000000  \n",
       "max      3.000000  "
      ]
     },
     "execution_count": 99,
     "metadata": {},
     "output_type": "execute_result"
    }
   ],
   "source": [
    "housing.describe()"
   ]
  },
  {
   "cell_type": "code",
   "execution_count": 100,
   "id": "b277b156",
   "metadata": {},
   "outputs": [
    {
     "data": {
      "text/html": [
       "<div>\n",
       "<style scoped>\n",
       "    .dataframe tbody tr th:only-of-type {\n",
       "        vertical-align: middle;\n",
       "    }\n",
       "\n",
       "    .dataframe tbody tr th {\n",
       "        vertical-align: top;\n",
       "    }\n",
       "\n",
       "    .dataframe thead th {\n",
       "        text-align: right;\n",
       "    }\n",
       "</style>\n",
       "<table border=\"1\" class=\"dataframe\">\n",
       "  <thead>\n",
       "    <tr style=\"text-align: right;\">\n",
       "      <th></th>\n",
       "      <th>price</th>\n",
       "      <th>area</th>\n",
       "      <th>bedrooms</th>\n",
       "      <th>bathrooms</th>\n",
       "      <th>stories</th>\n",
       "      <th>mainroad</th>\n",
       "      <th>guestroom</th>\n",
       "      <th>basement</th>\n",
       "      <th>hotwaterheating</th>\n",
       "      <th>airconditioning</th>\n",
       "      <th>parking</th>\n",
       "      <th>prefarea</th>\n",
       "      <th>furnishingstatus</th>\n",
       "    </tr>\n",
       "  </thead>\n",
       "  <tbody>\n",
       "    <tr>\n",
       "      <th>0</th>\n",
       "      <td>13300000</td>\n",
       "      <td>7420</td>\n",
       "      <td>4</td>\n",
       "      <td>2</td>\n",
       "      <td>3</td>\n",
       "      <td>1</td>\n",
       "      <td>0</td>\n",
       "      <td>0</td>\n",
       "      <td>0</td>\n",
       "      <td>1</td>\n",
       "      <td>2</td>\n",
       "      <td>1</td>\n",
       "      <td>furnished</td>\n",
       "    </tr>\n",
       "    <tr>\n",
       "      <th>1</th>\n",
       "      <td>12250000</td>\n",
       "      <td>8960</td>\n",
       "      <td>4</td>\n",
       "      <td>4</td>\n",
       "      <td>4</td>\n",
       "      <td>1</td>\n",
       "      <td>0</td>\n",
       "      <td>0</td>\n",
       "      <td>0</td>\n",
       "      <td>1</td>\n",
       "      <td>3</td>\n",
       "      <td>0</td>\n",
       "      <td>furnished</td>\n",
       "    </tr>\n",
       "    <tr>\n",
       "      <th>2</th>\n",
       "      <td>12250000</td>\n",
       "      <td>9960</td>\n",
       "      <td>3</td>\n",
       "      <td>2</td>\n",
       "      <td>2</td>\n",
       "      <td>1</td>\n",
       "      <td>0</td>\n",
       "      <td>1</td>\n",
       "      <td>0</td>\n",
       "      <td>0</td>\n",
       "      <td>2</td>\n",
       "      <td>1</td>\n",
       "      <td>semi-furnished</td>\n",
       "    </tr>\n",
       "    <tr>\n",
       "      <th>3</th>\n",
       "      <td>12215000</td>\n",
       "      <td>7500</td>\n",
       "      <td>4</td>\n",
       "      <td>2</td>\n",
       "      <td>2</td>\n",
       "      <td>1</td>\n",
       "      <td>0</td>\n",
       "      <td>1</td>\n",
       "      <td>0</td>\n",
       "      <td>1</td>\n",
       "      <td>3</td>\n",
       "      <td>1</td>\n",
       "      <td>furnished</td>\n",
       "    </tr>\n",
       "    <tr>\n",
       "      <th>4</th>\n",
       "      <td>11410000</td>\n",
       "      <td>7420</td>\n",
       "      <td>4</td>\n",
       "      <td>1</td>\n",
       "      <td>2</td>\n",
       "      <td>1</td>\n",
       "      <td>1</td>\n",
       "      <td>1</td>\n",
       "      <td>0</td>\n",
       "      <td>1</td>\n",
       "      <td>2</td>\n",
       "      <td>0</td>\n",
       "      <td>furnished</td>\n",
       "    </tr>\n",
       "  </tbody>\n",
       "</table>\n",
       "</div>"
      ],
      "text/plain": [
       "      price  area  bedrooms  bathrooms  stories  mainroad  guestroom  \\\n",
       "0  13300000  7420         4          2        3         1          0   \n",
       "1  12250000  8960         4          4        4         1          0   \n",
       "2  12250000  9960         3          2        2         1          0   \n",
       "3  12215000  7500         4          2        2         1          0   \n",
       "4  11410000  7420         4          1        2         1          1   \n",
       "\n",
       "   basement  hotwaterheating  airconditioning  parking  prefarea  \\\n",
       "0         0                0                1        2         1   \n",
       "1         0                0                1        3         0   \n",
       "2         1                0                0        2         1   \n",
       "3         1                0                1        3         1   \n",
       "4         1                0                1        2         0   \n",
       "\n",
       "  furnishingstatus  \n",
       "0        furnished  \n",
       "1        furnished  \n",
       "2   semi-furnished  \n",
       "3        furnished  \n",
       "4        furnished  "
      ]
     },
     "execution_count": 100,
     "metadata": {},
     "output_type": "execute_result"
    }
   ],
   "source": [
    "# You can see that your dataset has many columns with values as 'Yes' or 'No'.\n",
    "# But in order to fit a regression line, we would need numerical values and not string.\n",
    "# List of variables to map\n",
    "varlist = ['mainroad', 'guestroom', 'basement', 'hotwaterheating', 'airconditioning', 'prefarea',]\n",
    "# Defining the map function\n",
    "def binary_map(x):\n",
    "     return x.map({'yes': 1, \"no\": 0})\n",
    "# Applying the function to the housing list\n",
    "housing[varlist] = housing[varlist].apply(binary_map)\n",
    "# Check the housing dataframe now\n",
    "housing.head()\n"
   ]
  },
  {
   "cell_type": "code",
   "execution_count": 101,
   "id": "8a04c9ce",
   "metadata": {},
   "outputs": [
    {
     "data": {
      "text/plain": [
       "(381, 13)"
      ]
     },
     "execution_count": 101,
     "metadata": {},
     "output_type": "execute_result"
    }
   ],
   "source": [
    "#Splitting the Data into Training and Testing Sets\n",
    "from sklearn.model_selection import train_test_split\n",
    "# We specify this so that the train and test data set always have the same rows, respec\n",
    "np.random.seed(0)\n",
    "df_train, df_test = train_test_split(housing, train_size = 0.7, test_size = 0.3, random_state = 100 )\n",
    "df_train.shape\n"
   ]
  },
  {
   "cell_type": "code",
   "execution_count": 102,
   "id": "4fa0dac7",
   "metadata": {},
   "outputs": [
    {
     "data": {
      "text/plain": [
       "(164, 13)"
      ]
     },
     "execution_count": 102,
     "metadata": {},
     "output_type": "execute_result"
    }
   ],
   "source": [
    "df_test.shape"
   ]
  },
  {
   "cell_type": "code",
   "execution_count": 103,
   "id": "c739b601",
   "metadata": {},
   "outputs": [
    {
     "data": {
      "text/html": [
       "<div>\n",
       "<style scoped>\n",
       "    .dataframe tbody tr th:only-of-type {\n",
       "        vertical-align: middle;\n",
       "    }\n",
       "\n",
       "    .dataframe tbody tr th {\n",
       "        vertical-align: top;\n",
       "    }\n",
       "\n",
       "    .dataframe thead th {\n",
       "        text-align: right;\n",
       "    }\n",
       "</style>\n",
       "<table border=\"1\" class=\"dataframe\">\n",
       "  <thead>\n",
       "    <tr style=\"text-align: right;\">\n",
       "      <th></th>\n",
       "      <th>area</th>\n",
       "      <th>bedrooms</th>\n",
       "      <th>bathrooms</th>\n",
       "      <th>stories</th>\n",
       "      <th>parking</th>\n",
       "      <th>price</th>\n",
       "      <th>mainroad</th>\n",
       "      <th>guestroom</th>\n",
       "      <th>basement</th>\n",
       "      <th>hotwaterheating</th>\n",
       "      <th>airconditioning</th>\n",
       "      <th>prefarea</th>\n",
       "    </tr>\n",
       "  </thead>\n",
       "  <tbody>\n",
       "    <tr>\n",
       "      <th>359</th>\n",
       "      <td>3600</td>\n",
       "      <td>3</td>\n",
       "      <td>1</td>\n",
       "      <td>1</td>\n",
       "      <td>1</td>\n",
       "      <td>3710000</td>\n",
       "      <td>1</td>\n",
       "      <td>0</td>\n",
       "      <td>0</td>\n",
       "      <td>0</td>\n",
       "      <td>0</td>\n",
       "      <td>0</td>\n",
       "    </tr>\n",
       "    <tr>\n",
       "      <th>19</th>\n",
       "      <td>6420</td>\n",
       "      <td>3</td>\n",
       "      <td>2</td>\n",
       "      <td>2</td>\n",
       "      <td>1</td>\n",
       "      <td>8855000</td>\n",
       "      <td>1</td>\n",
       "      <td>0</td>\n",
       "      <td>0</td>\n",
       "      <td>0</td>\n",
       "      <td>1</td>\n",
       "      <td>1</td>\n",
       "    </tr>\n",
       "    <tr>\n",
       "      <th>159</th>\n",
       "      <td>3150</td>\n",
       "      <td>3</td>\n",
       "      <td>2</td>\n",
       "      <td>1</td>\n",
       "      <td>0</td>\n",
       "      <td>5460000</td>\n",
       "      <td>1</td>\n",
       "      <td>1</td>\n",
       "      <td>1</td>\n",
       "      <td>0</td>\n",
       "      <td>1</td>\n",
       "      <td>0</td>\n",
       "    </tr>\n",
       "    <tr>\n",
       "      <th>35</th>\n",
       "      <td>7000</td>\n",
       "      <td>3</td>\n",
       "      <td>2</td>\n",
       "      <td>4</td>\n",
       "      <td>2</td>\n",
       "      <td>8080940</td>\n",
       "      <td>1</td>\n",
       "      <td>0</td>\n",
       "      <td>0</td>\n",
       "      <td>0</td>\n",
       "      <td>1</td>\n",
       "      <td>0</td>\n",
       "    </tr>\n",
       "    <tr>\n",
       "      <th>28</th>\n",
       "      <td>7950</td>\n",
       "      <td>5</td>\n",
       "      <td>2</td>\n",
       "      <td>2</td>\n",
       "      <td>2</td>\n",
       "      <td>8400000</td>\n",
       "      <td>1</td>\n",
       "      <td>0</td>\n",
       "      <td>1</td>\n",
       "      <td>1</td>\n",
       "      <td>0</td>\n",
       "      <td>0</td>\n",
       "    </tr>\n",
       "  </tbody>\n",
       "</table>\n",
       "</div>"
      ],
      "text/plain": [
       "     area  bedrooms  bathrooms  stories  parking    price  mainroad  \\\n",
       "359  3600         3          1        1        1  3710000         1   \n",
       "19   6420         3          2        2        1  8855000         1   \n",
       "159  3150         3          2        1        0  5460000         1   \n",
       "35   7000         3          2        4        2  8080940         1   \n",
       "28   7950         5          2        2        2  8400000         1   \n",
       "\n",
       "     guestroom  basement  hotwaterheating  airconditioning  prefarea  \n",
       "359          0         0                0                0         0  \n",
       "19           0         0                0                1         1  \n",
       "159          1         1                0                1         0  \n",
       "35           0         0                0                1         0  \n",
       "28           0         1                1                0         0  "
      ]
     },
     "execution_count": 103,
     "metadata": {},
     "output_type": "execute_result"
    }
   ],
   "source": [
    "num_vars = ['area', 'bedrooms', 'bathrooms', 'stories', 'parking','price','mainroad', 'guestroom', 'basement','hotwaterheating', 'airconditioning', 'prefarea']\n",
    "df_Newtrain = df_train[num_vars]\n",
    "df_Newtest = df_test[num_vars]\n",
    "df_Newtrain.head()\n"
   ]
  },
  {
   "cell_type": "code",
   "execution_count": 104,
   "id": "984e1f5e",
   "metadata": {},
   "outputs": [
    {
     "data": {
      "text/plain": [
       "(381, 12)"
      ]
     },
     "execution_count": 104,
     "metadata": {},
     "output_type": "execute_result"
    }
   ],
   "source": [
    "df_Newtrain.shape\n"
   ]
  },
  {
   "cell_type": "code",
   "execution_count": 105,
   "id": "f6c93424",
   "metadata": {},
   "outputs": [
    {
     "data": {
      "text/plain": [
       "array([0., 0., 0., 0., 0., 0., 0., 0., 0., 0., 0., 0.])"
      ]
     },
     "execution_count": 105,
     "metadata": {},
     "output_type": "execute_result"
    }
   ],
   "source": [
    "y_Newtrain = df_Newtrain.pop('price')\n",
    "X_Newtrain = df_Newtrain\n",
    "X_Newtrain.head()\n",
    "theta = np.zeros(12)\n",
    "theta\n",
    "y = y_Newtrain.values\n",
    "X1 = df_Newtrain.values[:, 0]               \n",
    "X2 = df_Newtrain.values[:, 1]              \n",
    "X3 = df_Newtrain.values[:, 2]               \n",
    "X4 = df_Newtrain.values[:, 3]               \n",
    "X5 = df_Newtrain.values[:, 4]                \n",
    "X6 = df_Newtrain.values[:, 5]                \n",
    "X7 = df_Newtrain.values[:, 6]                \n",
    "X8 = df_Newtrain.values[:, 7]                \n",
    "X9 = df_Newtrain.values[:, 8]               \n",
    "X10 = df_Newtrain.values[:, 9]              \n",
    "X11 = df_Newtrain.values[:, 10]\n",
    "m = len(X_Newtrain)               # size of training set\n",
    "X_0  = np.ones((m, 1))\n",
    "X_1  = X1.reshape(m, 1)\n",
    "X_2  = X2.reshape(m, 1)\n",
    "X_3  = X3.reshape(m, 1)\n",
    "X_4  = X4.reshape(m, 1)\n",
    "X_5  = X5.reshape(m, 1)\n",
    "X_6  = X6.reshape(m, 1)\n",
    "X_7  = X7.reshape(m, 1)\n",
    "X_8  = X8.reshape(m, 1)\n",
    "X_9  = X9.reshape(m, 1)\n",
    "X_10 = X10.reshape(m, 1)\n",
    "X_11 = X11.reshape(m, 1)\n",
    "X = np.hstack((X_0, X_1, X_2, X_3, X_4, X_5, X_6, X_7, X_8, X_9, X_10, X_11))\n",
    "\n",
    "theta = np.zeros(12)\n",
    "theta"
   ]
  },
  {
   "cell_type": "code",
   "execution_count": 106,
   "id": "705930b6",
   "metadata": {},
   "outputs": [],
   "source": [
    "y_Newtest = df_Newtest.pop('price')\n",
    "X_Newtest = df_Newtest\n",
    "y_test = y_Newtest.values\n",
    "X1_test = df_Newtest.values[:, 0]                \n",
    "X2_test = df_Newtest.values[:, 1]                \n",
    "X3_test = df_Newtest.values[:, 2]                \n",
    "X4_test = df_Newtest.values[:, 3]               \n",
    "X5_test = df_Newtest.values[:, 4] \n",
    "X6_test = df_Newtest.values[:, 5]             \n",
    "X7_test = df_Newtest.values[:, 6]                \n",
    "X8_test = df_Newtest.values[:, 7]                \n",
    "X9_test = df_Newtest.values[:, 8]               \n",
    "X10_test = df_Newtest.values[:, 9] \n",
    "X11_test = df_Newtest.values[:, 10]\n",
    "m_test = len(X_Newtest)                   # size of validation set\n",
    "X_0_test = np.ones((m_test, 1))\n",
    "X_1_test = X1_test.reshape(m_test, 1)\n",
    "X_2_test = X2_test.reshape(m_test, 1)\n",
    "X_3_test = X3_test.reshape(m_test, 1)\n",
    "X_4_test = X4_test.reshape(m_test, 1)\n",
    "X_5_test = X5_test.reshape(m_test, 1)\n",
    "X_6_test = X6_test.reshape(m_test, 1)\n",
    "X_7_test = X7_test.reshape(m_test, 1)\n",
    "X_8_test = X8_test.reshape(m_test, 1)\n",
    "X_9_test = X9_test.reshape(m_test, 1)\n",
    "X_10_test = X10_test.reshape(m_test, 1)\n",
    "X_11_test = X11_test.reshape(m_test, 1)\n",
    "X_test = np.hstack((X_0_test, X_1_test, X_2_test, X_3_test, X_4_test, X_5_test, X_6_test, X_7_test, X_8_test, X_9_test, X_10_test, X_11_test))\n"
   ]
  },
  {
   "cell_type": "code",
   "execution_count": 107,
   "id": "2a791c7d",
   "metadata": {},
   "outputs": [],
   "source": [
    "def compute_cost(X, y, theta, m):\n",
    "    predictions = X.dot(theta)\n",
    "    errors = np.subtract(predictions, y)\n",
    "    sqrErrors = np.square(errors)\n",
    "    J = 1 / (2 * m) * np.sum(sqrErrors)\n",
    "    return J\n"
   ]
  },
  {
   "cell_type": "code",
   "execution_count": 108,
   "id": "8da8e333",
   "metadata": {},
   "outputs": [
    {
     "data": {
      "text/plain": [
       "12966317325103.15"
      ]
     },
     "execution_count": 108,
     "metadata": {},
     "output_type": "execute_result"
    }
   ],
   "source": [
    "cost = compute_cost(X, y_Newtrain, theta, m)\n",
    "cost"
   ]
  },
  {
   "cell_type": "code",
   "execution_count": 109,
   "id": "66d43dda",
   "metadata": {},
   "outputs": [],
   "source": [
    "def gradient_descent(X, y, theta, alpha, iterations):\n",
    "    cost_train = np.zeros(iterations)\n",
    "    cost_test = np.zeros(iterations)\n",
    "    for i in range(iterations):\n",
    "        predictions = X.dot(theta)\n",
    "        errors = np.subtract(predictions, y)\n",
    "        sum_delta = (alpha / m) * X.transpose().dot(errors);\n",
    "        theta = theta - sum_delta;\n",
    "        cost_train[i] = compute_cost(X, y, theta, m)                     # loss for training set\n",
    "        cost_test[i] = compute_cost(X_test, y_test, theta, m_test)         # loss for validation set\n",
    "    \n",
    "    return theta, cost_train, cost_test"
   ]
  },
  {
   "cell_type": "code",
   "execution_count": 110,
   "id": "5a1455b1",
   "metadata": {},
   "outputs": [],
   "source": [
    "theta = [0., 0., 0., 0., 0., 0., 0., 0., 0., 0., 0., 0.]\n",
    "iterations = 100;\n",
    "alpha = 0.00000001;"
   ]
  },
  {
   "cell_type": "code",
   "execution_count": 111,
   "id": "f8d16db6",
   "metadata": {},
   "outputs": [
    {
     "name": "stdout",
     "output_type": "stream",
     "text": [
      "Final value of theta= [4.73492952e-01 8.65549119e+02 1.73247385e+00 9.20983598e-01\n",
      " 1.40741867e+00 3.52681071e-01 4.22358844e-01 1.61677780e-01\n",
      " 2.52755787e-01 6.76060123e-02 3.31884864e-01 1.71529999e-01]\n",
      "cost_train = [7.08737377e+12 4.24131722e+12 2.86351220e+12 2.19650272e+12\n",
      " 1.87359660e+12 1.71727444e+12 1.64159727e+12 1.60496115e+12\n",
      " 1.58722522e+12 1.57863905e+12 1.57448238e+12 1.57247007e+12\n",
      " 1.57149587e+12 1.57102423e+12 1.57079589e+12 1.57068532e+12\n",
      " 1.57063178e+12 1.57060583e+12 1.57059325e+12 1.57058714e+12\n",
      " 1.57058417e+12 1.57058270e+12 1.57058198e+12 1.57058160e+12\n",
      " 1.57058140e+12 1.57058129e+12 1.57058121e+12 1.57058115e+12\n",
      " 1.57058110e+12 1.57058106e+12 1.57058102e+12 1.57058098e+12\n",
      " 1.57058094e+12 1.57058090e+12 1.57058086e+12 1.57058082e+12\n",
      " 1.57058078e+12 1.57058074e+12 1.57058070e+12 1.57058066e+12\n",
      " 1.57058062e+12 1.57058058e+12 1.57058054e+12 1.57058050e+12\n",
      " 1.57058046e+12 1.57058043e+12 1.57058039e+12 1.57058035e+12\n",
      " 1.57058031e+12 1.57058027e+12 1.57058023e+12 1.57058019e+12\n",
      " 1.57058015e+12 1.57058011e+12 1.57058007e+12 1.57058003e+12\n",
      " 1.57057999e+12 1.57057995e+12 1.57057991e+12 1.57057987e+12\n",
      " 1.57057984e+12 1.57057980e+12 1.57057976e+12 1.57057972e+12\n",
      " 1.57057968e+12 1.57057964e+12 1.57057960e+12 1.57057956e+12\n",
      " 1.57057952e+12 1.57057948e+12 1.57057944e+12 1.57057940e+12\n",
      " 1.57057936e+12 1.57057932e+12 1.57057928e+12 1.57057925e+12\n",
      " 1.57057921e+12 1.57057917e+12 1.57057913e+12 1.57057909e+12\n",
      " 1.57057905e+12 1.57057901e+12 1.57057897e+12 1.57057893e+12\n",
      " 1.57057889e+12 1.57057885e+12 1.57057881e+12 1.57057877e+12\n",
      " 1.57057873e+12 1.57057870e+12 1.57057866e+12 1.57057862e+12\n",
      " 1.57057858e+12 1.57057854e+12 1.57057850e+12 1.57057846e+12\n",
      " 1.57057842e+12 1.57057838e+12 1.57057834e+12 1.57057830e+12]\n",
      "cost_test = [7.30528696e+12 4.39545366e+12 3.02637908e+12 2.39115276e+12\n",
      " 2.10280658e+12 1.97655570e+12 1.92471837e+12 1.90608161e+12\n",
      " 1.90155287e+12 1.90248695e+12 1.90511448e+12 1.90790004e+12\n",
      " 1.91030166e+12 1.91219701e+12 1.91362437e+12 1.91467007e+12\n",
      " 1.91542309e+12 1.91595934e+12 1.91633840e+12 1.91660502e+12\n",
      " 1.91679191e+12 1.91692261e+12 1.91701386e+12 1.91707750e+12\n",
      " 1.91712183e+12 1.91715271e+12 1.91717419e+12 1.91718913e+12\n",
      " 1.91719952e+12 1.91720673e+12 1.91721174e+12 1.91721521e+12\n",
      " 1.91721761e+12 1.91721927e+12 1.91722040e+12 1.91722118e+12\n",
      " 1.91722171e+12 1.91722206e+12 1.91722229e+12 1.91722244e+12\n",
      " 1.91722252e+12 1.91722257e+12 1.91722259e+12 1.91722259e+12\n",
      " 1.91722257e+12 1.91722255e+12 1.91722252e+12 1.91722248e+12\n",
      " 1.91722244e+12 1.91722240e+12 1.91722235e+12 1.91722231e+12\n",
      " 1.91722226e+12 1.91722222e+12 1.91722217e+12 1.91722213e+12\n",
      " 1.91722208e+12 1.91722203e+12 1.91722199e+12 1.91722194e+12\n",
      " 1.91722189e+12 1.91722184e+12 1.91722180e+12 1.91722175e+12\n",
      " 1.91722170e+12 1.91722166e+12 1.91722161e+12 1.91722156e+12\n",
      " 1.91722152e+12 1.91722147e+12 1.91722142e+12 1.91722137e+12\n",
      " 1.91722133e+12 1.91722128e+12 1.91722123e+12 1.91722119e+12\n",
      " 1.91722114e+12 1.91722109e+12 1.91722105e+12 1.91722100e+12\n",
      " 1.91722095e+12 1.91722090e+12 1.91722086e+12 1.91722081e+12\n",
      " 1.91722076e+12 1.91722072e+12 1.91722067e+12 1.91722062e+12\n",
      " 1.91722058e+12 1.91722053e+12 1.91722048e+12 1.91722043e+12\n",
      " 1.91722039e+12 1.91722034e+12 1.91722029e+12 1.91722025e+12\n",
      " 1.91722020e+12 1.91722015e+12 1.91722011e+12 1.91722006e+12]\n"
     ]
    }
   ],
   "source": [
    "cost = compute_cost(X, y, theta, m)\n",
    "cost\n",
    "theta, cost_train, cost_test = gradient_descent(X, y, theta, alpha, iterations)\n",
    "print('Final value of theta=', theta)\n",
    "print('cost_train =', cost_train)\n",
    "print('cost_test =', cost_test)"
   ]
  },
  {
   "cell_type": "code",
   "execution_count": 112,
   "id": "100ab038",
   "metadata": {},
   "outputs": [
    {
     "data": {
      "text/plain": [
       "Text(0.5, 1.0, 'Convergence of gradient descent Problem 1 b')"
      ]
     },
     "execution_count": 112,
     "metadata": {},
     "output_type": "execute_result"
    },
    {
     "data": {
      "image/png": "[encoded data removed]",
      "text/plain": [
       "<Figure size 720x432 with 1 Axes>"
      ]
     },
     "metadata": {
      "needs_background": "light"
     },
     "output_type": "display_data"
    }
   ],
   "source": [
    "plt.plot(range(1, iterations + 1),cost_train, color='blue', label= 'Loss for Training Set')\n",
    "plt.plot(range(1, iterations + 1),cost_test, color='red', label= 'Loss for Testing Set')\n",
    "plt.rcParams[\"figure.figsize\"] = (10,6)\n",
    "plt.grid()\n",
    "plt.legend()\n",
    "plt.xlabel('Number of iterations')\n",
    "plt.ylabel('Cost (J)')\n",
    "plt.title('Convergence of gradient descent Problem 1 b')"
   ]
  },
  {
   "cell_type": "code",
   "execution_count": null,
   "id": "0127d5d6",
   "metadata": {},
   "outputs": [],
   "source": []
  }
 ],
 "metadata": {
  "kernelspec": {
   "display_name": "Python 3",
   "language": "python",
   "name": "python3"
  },
  "language_info": {
   "codemirror_mode": {
    "name": "ipython",
    "version": 3
   },
   "file_extension": ".py",
   "mimetype": "text/x-python",
   "name": "python",
   "nbconvert_exporter": "python",
   "pygments_lexer": "ipython3",
   "version": "3.8.8"
  }
 },
 "nbformat": 4,
 "nbformat_minor": 5
}
